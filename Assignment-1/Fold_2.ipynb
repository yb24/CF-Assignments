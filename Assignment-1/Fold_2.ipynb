{
 "cells": [
  {
   "cell_type": "markdown",
   "id": "8678434b",
   "metadata": {},
   "source": [
    "# Import Statements"
   ]
  },
  {
   "cell_type": "code",
   "execution_count": 1,
   "id": "b1ae9349",
   "metadata": {},
   "outputs": [],
   "source": [
    "import pandas as pd\n",
    "import numpy as np\n",
    "from tqdm import tqdm"
   ]
  },
  {
   "cell_type": "markdown",
   "id": "9b1d5d9d",
   "metadata": {},
   "source": [
    "# Read Files"
   ]
  },
  {
   "cell_type": "code",
   "execution_count": 2,
   "id": "41a23161",
   "metadata": {},
   "outputs": [],
   "source": [
    "base_path = 'Dataset/ml-100k/'"
   ]
  },
  {
   "cell_type": "code",
   "execution_count": 3,
   "id": "f675707d",
   "metadata": {},
   "outputs": [],
   "source": [
    "cols = ['user_id', 'movie_id', 'rating', 'unix_timestamp']\n",
    "train_1 = pd.read_csv(base_path+'u2.base', sep='\\t', names=cols, encoding='latin-1')\n",
    "test_1 = pd.read_csv(base_path+'u2.test', sep='\\t', names=cols, encoding='latin-1')"
   ]
  },
  {
   "cell_type": "markdown",
   "id": "770a957d",
   "metadata": {},
   "source": [
    "# Train Matrix"
   ]
  },
  {
   "cell_type": "code",
   "execution_count": 4,
   "id": "d43a201d",
   "metadata": {},
   "outputs": [],
   "source": [
    "train_matrix_1 = np.zeros((943,1682))"
   ]
  },
  {
   "cell_type": "code",
   "execution_count": 5,
   "id": "6b4ca295",
   "metadata": {},
   "outputs": [],
   "source": [
    "for i in range(80000):\n",
    "    train_matrix_1[train_1.iloc[i,0]-1][train_1.iloc[i,1]-1] = train_1.iloc[i,2]"
   ]
  },
  {
   "cell_type": "markdown",
   "id": "3ffc749d",
   "metadata": {},
   "source": [
    "# Test Matrix"
   ]
  },
  {
   "cell_type": "code",
   "execution_count": 6,
   "id": "fa7988fa",
   "metadata": {},
   "outputs": [],
   "source": [
    "test_matrix_1 = np.zeros((943,1682))"
   ]
  },
  {
   "cell_type": "code",
   "execution_count": 7,
   "id": "f8eec02d",
   "metadata": {},
   "outputs": [],
   "source": [
    "for i in range(20000):\n",
    "    test_matrix_1[test_1.iloc[i,0]-1][test_1.iloc[i,1]-1] = test_1.iloc[i,2]"
   ]
  },
  {
   "cell_type": "code",
   "execution_count": 8,
   "id": "bed57c7f",
   "metadata": {},
   "outputs": [
    {
     "data": {
      "text/plain": [
       "(943, 1682)"
      ]
     },
     "execution_count": 8,
     "metadata": {},
     "output_type": "execute_result"
    }
   ],
   "source": [
    "train_matrix_1.shape"
   ]
  },
  {
   "cell_type": "markdown",
   "id": "71cadc93",
   "metadata": {},
   "source": [
    "# Mean Rating by User"
   ]
  },
  {
   "cell_type": "code",
   "execution_count": 9,
   "id": "a0c18e9a",
   "metadata": {},
   "outputs": [],
   "source": [
    "mean_rating_1 = np.average(train_matrix_1, axis=1, weights=(train_matrix_1 > 0))"
   ]
  },
  {
   "cell_type": "code",
   "execution_count": 10,
   "id": "fc2b38fb",
   "metadata": {},
   "outputs": [
    {
     "data": {
      "text/plain": [
       "(943,)"
      ]
     },
     "execution_count": 10,
     "metadata": {},
     "output_type": "execute_result"
    }
   ],
   "source": [
    "mean_rating_1.shape"
   ]
  },
  {
   "cell_type": "markdown",
   "id": "616da083",
   "metadata": {},
   "source": [
    "# Mean Rating Of Item"
   ]
  },
  {
   "cell_type": "code",
   "execution_count": 11,
   "id": "e23ee994",
   "metadata": {},
   "outputs": [],
   "source": [
    "mean_rating_item_1 = np.zeros((1682,))"
   ]
  },
  {
   "cell_type": "code",
   "execution_count": 12,
   "id": "cabde6d0",
   "metadata": {},
   "outputs": [],
   "source": [
    "for i in range(1682):\n",
    "    summ = 0\n",
    "    counter = 0\n",
    "    for j in range(943):\n",
    "        if train_matrix_1[j][i]>0:\n",
    "            summ += train_matrix_1[j][i]\n",
    "            counter += 1\n",
    "    if counter>0:\n",
    "        mean_rating_item_1[i] = summ/counter"
   ]
  },
  {
   "cell_type": "markdown",
   "id": "a3b1627f",
   "metadata": {},
   "source": [
    "# Variance Of Item"
   ]
  },
  {
   "cell_type": "code",
   "execution_count": 13,
   "id": "4c1f5af4",
   "metadata": {},
   "outputs": [],
   "source": [
    "variance_rating_item_1 = np.zeros((1682,))"
   ]
  },
  {
   "cell_type": "code",
   "execution_count": 14,
   "id": "3a690245",
   "metadata": {},
   "outputs": [],
   "source": [
    "for i in range(1682):\n",
    "    if mean_rating_item_1[i]==0:\n",
    "        continue\n",
    "    summ = 0\n",
    "    counter = 0\n",
    "    for j in range(943):\n",
    "        if train_matrix_1[j][i]>0:\n",
    "            summ += (train_matrix_1[j][i]-mean_rating_item_1[i])*(train_matrix_1[j][i]-mean_rating_item_1[i])\n",
    "            counter += 1\n",
    "    if counter-1>0:\n",
    "        variance_rating_item_1[i] = summ/(counter-1)"
   ]
  },
  {
   "cell_type": "markdown",
   "id": "ccd19208",
   "metadata": {},
   "source": [
    "# Number of co-rated items matrix"
   ]
  },
  {
   "cell_type": "code",
   "execution_count": 15,
   "id": "dfdb5837",
   "metadata": {},
   "outputs": [],
   "source": [
    "co_rated_matrix_1 = np.zeros((943,943))"
   ]
  },
  {
   "cell_type": "code",
   "execution_count": 16,
   "id": "fb55e405",
   "metadata": {},
   "outputs": [
    {
     "name": "stderr",
     "output_type": "stream",
     "text": [
      "100%|████████████████████████████████████████████████████████████████████████████████| 943/943 [06:53<00:00,  2.28it/s]\n"
     ]
    }
   ],
   "source": [
    "for i in tqdm(range(943)):\n",
    "    for j in range(i+1,943):\n",
    "        for k in range(1682):\n",
    "            if(train_matrix_1[i][k]>0 and train_matrix_1[j][k]>0):\n",
    "                co_rated_matrix_1[i][j]+=1\n",
    "                co_rated_matrix_1[j][i]+=1"
   ]
  },
  {
   "cell_type": "markdown",
   "id": "9d0dffbe",
   "metadata": {},
   "source": [
    "# User Cosine similarity Matrix"
   ]
  },
  {
   "cell_type": "code",
   "execution_count": 17,
   "id": "0804ad9b",
   "metadata": {},
   "outputs": [],
   "source": [
    "from sklearn.metrics.pairwise import cosine_similarity"
   ]
  },
  {
   "cell_type": "code",
   "execution_count": 18,
   "id": "27fcd990",
   "metadata": {},
   "outputs": [],
   "source": [
    "cosine_similarity_1 = cosine_similarity(train_matrix_1)"
   ]
  },
  {
   "cell_type": "markdown",
   "id": "dfd0518f",
   "metadata": {},
   "source": [
    "# Item Cosine similarity Matrix"
   ]
  },
  {
   "cell_type": "code",
   "execution_count": 19,
   "id": "e5205d55",
   "metadata": {},
   "outputs": [],
   "source": [
    "cosine_similarity_item = cosine_similarity(train_matrix_1.T)"
   ]
  },
  {
   "cell_type": "markdown",
   "id": "39fb7cf1",
   "metadata": {},
   "source": [
    "# User Based Prediction"
   ]
  },
  {
   "cell_type": "markdown",
   "id": "f289ca30",
   "metadata": {},
   "source": [
    "## Fold 1 k = 10, 20, 30, 40, 50"
   ]
  },
  {
   "cell_type": "code",
   "execution_count": 20,
   "id": "2eeb9abe",
   "metadata": {},
   "outputs": [
    {
     "name": "stderr",
     "output_type": "stream",
     "text": [
      "100%|███████████████████████████████████████████████████████████████████████████████| 943/943 [00:01<00:00, 658.92it/s]\n"
     ]
    },
    {
     "name": "stdout",
     "output_type": "stream",
     "text": [
      "Coverage: 90.12 %\n",
      "Mean Absolute Error Fold 1 k=10: 0.7642587660896583\n"
     ]
    },
    {
     "name": "stderr",
     "output_type": "stream",
     "text": [
      "100%|███████████████████████████████████████████████████████████████████████████████| 943/943 [00:01<00:00, 566.92it/s]\n"
     ]
    },
    {
     "name": "stdout",
     "output_type": "stream",
     "text": [
      "Coverage: 95.09 %\n",
      "Mean Absolute Error Fold 1 k=20: 0.7364601956041644\n"
     ]
    },
    {
     "name": "stderr",
     "output_type": "stream",
     "text": [
      "100%|███████████████████████████████████████████████████████████████████████████████| 943/943 [00:02<00:00, 442.88it/s]\n"
     ]
    },
    {
     "name": "stdout",
     "output_type": "stream",
     "text": [
      "Coverage: 96.855 %\n",
      "Mean Absolute Error Fold 1 k=30: 0.7187548397088431\n"
     ]
    },
    {
     "name": "stderr",
     "output_type": "stream",
     "text": [
      "100%|███████████████████████████████████████████████████████████████████████████████| 943/943 [00:02<00:00, 423.54it/s]\n"
     ]
    },
    {
     "name": "stdout",
     "output_type": "stream",
     "text": [
      "Coverage: 97.75500000000001 %\n",
      "Mean Absolute Error Fold 1 k=40: 0.7157690143726664\n"
     ]
    },
    {
     "name": "stderr",
     "output_type": "stream",
     "text": [
      "100%|███████████████████████████████████████████████████████████████████████████████| 943/943 [00:02<00:00, 357.49it/s]"
     ]
    },
    {
     "name": "stdout",
     "output_type": "stream",
     "text": [
      "Coverage: 98.18 %\n",
      "Mean Absolute Error Fold 1 k=50: 0.7118557751069464\n"
     ]
    },
    {
     "name": "stderr",
     "output_type": "stream",
     "text": [
      "\n"
     ]
    }
   ],
   "source": [
    "for k in [-11,-21,-31,-41,-51]:\n",
    "    total_predictions_1 = 0\n",
    "    total_absolute_error_1 = 0\n",
    "    for a in tqdm(range(943)):\n",
    "        # calculating top k neighbours of active user 'a'\n",
    "        # k = actual k + 1 since argpartition will return 'a' itself as well as cosine-sim(a,a) is 1\n",
    "        neighbours = np.argpartition(cosine_similarity_1[a], k)[k:]\n",
    "        for j in range(1682):\n",
    "            if test_matrix_1[a][j]==0:\n",
    "                continue\n",
    "            summation=0\n",
    "            normalizing_factor=0\n",
    "            for i in neighbours:\n",
    "                if i==a:\n",
    "                    continue\n",
    "                if train_matrix_1[i][j]==0:\n",
    "                    continue\n",
    "                summation += cosine_similarity_1[a][i]*(train_matrix_1[i][j]-mean_rating_1[i])\n",
    "                normalizing_factor += abs(cosine_similarity_1[a][i])\n",
    "            if normalizing_factor==0:\n",
    "                continue\n",
    "            predicted_rating_a_j_1 = round(mean_rating_1[a] + (summation/normalizing_factor))\n",
    "            total_absolute_error_1 += abs(predicted_rating_a_j_1 - test_matrix_1[a][j])\n",
    "            total_predictions_1 += 1\n",
    "    coverage_1 = (total_predictions_1/20000)*100\n",
    "    mean_absolute_error_1 = total_absolute_error_1/total_predictions_1\n",
    "    print('Coverage: {} {}'.format(coverage_1, '%'))\n",
    "    print('Mean Absolute Error Fold 1 k={}: {}'.format(-1*k-1,mean_absolute_error_1))"
   ]
  },
  {
   "cell_type": "markdown",
   "id": "ee26df38",
   "metadata": {},
   "source": [
    "## Fold 1 k = 10, 20, 30, 40, 50 Significance Weighting"
   ]
  },
  {
   "cell_type": "code",
   "execution_count": 21,
   "id": "9aea83ed",
   "metadata": {},
   "outputs": [
    {
     "name": "stderr",
     "output_type": "stream",
     "text": [
      "100%|███████████████████████████████████████████████████████████████████████████████| 943/943 [00:01<00:00, 610.35it/s]\n"
     ]
    },
    {
     "name": "stdout",
     "output_type": "stream",
     "text": [
      "Coverage_sw: 90.12 %\n",
      "Mean Absolute Error Fold 1 k=10 sw: 0.7645361739902352\n"
     ]
    },
    {
     "name": "stderr",
     "output_type": "stream",
     "text": [
      "100%|███████████████████████████████████████████████████████████████████████████████| 943/943 [00:01<00:00, 535.26it/s]\n"
     ]
    },
    {
     "name": "stdout",
     "output_type": "stream",
     "text": [
      "Coverage_sw: 95.09 %\n",
      "Mean Absolute Error Fold 1 k=10 sw: 0.7379850667788411\n"
     ]
    },
    {
     "name": "stderr",
     "output_type": "stream",
     "text": [
      "100%|███████████████████████████████████████████████████████████████████████████████| 943/943 [00:02<00:00, 408.76it/s]\n"
     ]
    },
    {
     "name": "stdout",
     "output_type": "stream",
     "text": [
      "Coverage_sw: 96.855 %\n",
      "Mean Absolute Error Fold 1 k=10 sw: 0.7204067936606268\n"
     ]
    },
    {
     "name": "stderr",
     "output_type": "stream",
     "text": [
      "100%|███████████████████████████████████████████████████████████████████████████████| 943/943 [00:02<00:00, 369.69it/s]\n"
     ]
    },
    {
     "name": "stdout",
     "output_type": "stream",
     "text": [
      "Coverage_sw: 97.75500000000001 %\n",
      "Mean Absolute Error Fold 1 k=10 sw: 0.7160759040458289\n"
     ]
    },
    {
     "name": "stderr",
     "output_type": "stream",
     "text": [
      "100%|███████████████████████████████████████████████████████████████████████████████| 943/943 [00:03<00:00, 290.13it/s]"
     ]
    },
    {
     "name": "stdout",
     "output_type": "stream",
     "text": [
      "Coverage_sw: 98.18 %\n",
      "Mean Absolute Error Fold 1 k=10 sw: 0.7137400692605419\n"
     ]
    },
    {
     "name": "stderr",
     "output_type": "stream",
     "text": [
      "\n"
     ]
    }
   ],
   "source": [
    "for k in [-11,-21,-31,-41,-51]:\n",
    "    total_predictions_1_sw = 0\n",
    "    total_absolute_error_1_sw = 0\n",
    "    for a in tqdm(range(943)):\n",
    "        # calculating top k neighbours of active user 'a'\n",
    "        # k = actual k + 1 since argpartition will return 'a' itself as well as cosine-sim(a,a) is 1\n",
    "        threshold = -1*k-1\n",
    "        neighbours = np.argpartition(cosine_similarity_1[a], k)[k:]\n",
    "        for j in range(1682):\n",
    "            if test_matrix_1[a][j]==0:\n",
    "                continue\n",
    "            summation=0\n",
    "            normalizing_factor=0\n",
    "            for i in neighbours:\n",
    "                if i==a:\n",
    "                    continue\n",
    "                if train_matrix_1[i][j]==0:\n",
    "                    continue\n",
    "                significance_weight = 0\n",
    "                if co_rated_matrix_1[a][i]<threshold:\n",
    "                    significance_weight = co_rated_matrix_1[a][i]/threshold\n",
    "                else:\n",
    "                    significance_weight = 1\n",
    "                summation += cosine_similarity_1[a][i]*significance_weight*(train_matrix_1[i][j]-mean_rating_1[i])\n",
    "                normalizing_factor += abs(cosine_similarity_1[a][i]*significance_weight)\n",
    "            if normalizing_factor==0:\n",
    "                continue\n",
    "            predicted_rating_a_j_1_sw = round(mean_rating_1[a] + (summation/normalizing_factor))\n",
    "            total_absolute_error_1_sw += abs(predicted_rating_a_j_1_sw - test_matrix_1[a][j])\n",
    "            total_predictions_1_sw += 1\n",
    "    coverage_1_sw = (total_predictions_1_sw/20000)*100\n",
    "    mean_absolute_error_1_sw = total_absolute_error_1_sw/total_predictions_1_sw\n",
    "    print('Coverage_sw: {} {}'.format(coverage_1_sw, '%'))\n",
    "    print('Mean Absolute Error Fold 1 k=10 sw: {}'.format(mean_absolute_error_1_sw))"
   ]
  },
  {
   "cell_type": "markdown",
   "id": "60304bb2",
   "metadata": {},
   "source": [
    "# Item Based Prediction"
   ]
  },
  {
   "cell_type": "markdown",
   "id": "9cd14d22",
   "metadata": {},
   "source": [
    "## Fold 1 k = 10, 20, 30, 40, 50"
   ]
  },
  {
   "cell_type": "code",
   "execution_count": 22,
   "id": "2cecbcd5",
   "metadata": {},
   "outputs": [
    {
     "name": "stderr",
     "output_type": "stream",
     "text": [
      "100%|████████████████████████████████████████████████████████████████████████████| 1682/1682 [00:01<00:00, 1275.42it/s]\n"
     ]
    },
    {
     "name": "stdout",
     "output_type": "stream",
     "text": [
      "Coverage: 90.75 %\n",
      "Mean Absolute Error Fold 1 k=10: 0.7269972451790634\n"
     ]
    },
    {
     "name": "stderr",
     "output_type": "stream",
     "text": [
      "100%|████████████████████████████████████████████████████████████████████████████| 1682/1682 [00:01<00:00, 1059.86it/s]\n"
     ]
    },
    {
     "name": "stdout",
     "output_type": "stream",
     "text": [
      "Coverage: 95.59 %\n",
      "Mean Absolute Error Fold 1 k=20: 0.6996547756041427\n"
     ]
    },
    {
     "name": "stderr",
     "output_type": "stream",
     "text": [
      "100%|█████████████████████████████████████████████████████████████████████████████| 1682/1682 [00:01<00:00, 865.19it/s]\n"
     ]
    },
    {
     "name": "stdout",
     "output_type": "stream",
     "text": [
      "Coverage: 97.195 %\n",
      "Mean Absolute Error Fold 1 k=30: 0.6875868100210916\n"
     ]
    },
    {
     "name": "stderr",
     "output_type": "stream",
     "text": [
      "100%|█████████████████████████████████████████████████████████████████████████████| 1682/1682 [00:02<00:00, 787.74it/s]\n"
     ]
    },
    {
     "name": "stdout",
     "output_type": "stream",
     "text": [
      "Coverage: 98.155 %\n",
      "Mean Absolute Error Fold 1 k=40: 0.6870256227395446\n"
     ]
    },
    {
     "name": "stderr",
     "output_type": "stream",
     "text": [
      "100%|█████████████████████████████████████████████████████████████████████████████| 1682/1682 [00:02<00:00, 665.68it/s]"
     ]
    },
    {
     "name": "stdout",
     "output_type": "stream",
     "text": [
      "Coverage: 98.72 %\n",
      "Mean Absolute Error Fold 1 k=50: 0.6865883306320908\n"
     ]
    },
    {
     "name": "stderr",
     "output_type": "stream",
     "text": [
      "\n"
     ]
    }
   ],
   "source": [
    "for k in [-11,-21,-31,-41,-51]:\n",
    "    total_predictions_1 = 0\n",
    "    total_absolute_error_1 = 0\n",
    "    for j in tqdm(range(1682)):\n",
    "        # calculating top k neighbours of item 'j'\n",
    "        # active user 'a'\n",
    "        # k = actual k + 1 since argpartition will return 'a' itself as well as cosine-sim(j,j) is 1\n",
    "        neighbours = np.argpartition(cosine_similarity_item[j], k)[k:]\n",
    "        for a in range(943):\n",
    "            if test_matrix_1[a][j]==0:\n",
    "                continue\n",
    "            summation=0\n",
    "            normalizing_factor=0\n",
    "            for i in neighbours:\n",
    "                if i==j:\n",
    "                    continue\n",
    "                if train_matrix_1[a][i]==0:\n",
    "                    continue\n",
    "                summation += cosine_similarity_item[j][i]*(train_matrix_1[a][i]-mean_rating_item_1[i])\n",
    "                normalizing_factor += abs(cosine_similarity_item[j][i])\n",
    "            if normalizing_factor==0:\n",
    "                continue\n",
    "            predicted_rating_a_j_1 = round(mean_rating_item_1[j] + (summation/normalizing_factor))\n",
    "            total_absolute_error_1 += abs(predicted_rating_a_j_1 - test_matrix_1[a][j])\n",
    "            total_predictions_1 += 1\n",
    "    coverage_1 = (total_predictions_1/20000)*100\n",
    "    mean_absolute_error_1 = total_absolute_error_1/total_predictions_1\n",
    "    print('Coverage: {} {}'.format(coverage_1, '%'))\n",
    "    print('Mean Absolute Error Fold 1 k={}: {}'.format(-1*k-1,mean_absolute_error_1))"
   ]
  },
  {
   "cell_type": "markdown",
   "id": "1617de49",
   "metadata": {},
   "source": [
    "## Fold 1 k = 10, 20, 30, 40, 50 Variance Weighting"
   ]
  },
  {
   "cell_type": "code",
   "execution_count": 23,
   "id": "4e5c1cd7",
   "metadata": {},
   "outputs": [
    {
     "name": "stderr",
     "output_type": "stream",
     "text": [
      "100%|█████████████████████████████████████████████████████████████████████████████| 1682/1682 [00:02<00:00, 737.72it/s]\n"
     ]
    },
    {
     "name": "stdout",
     "output_type": "stream",
     "text": [
      "Coverage: 84.25 %\n",
      "Mean Absolute Error Fold 1 k=10: 0.7322848664688427\n"
     ]
    },
    {
     "name": "stderr",
     "output_type": "stream",
     "text": [
      "100%|█████████████████████████████████████████████████████████████████████████████| 1682/1682 [00:03<00:00, 425.31it/s]\n"
     ]
    },
    {
     "name": "stdout",
     "output_type": "stream",
     "text": [
      "Coverage: 92.43 %\n",
      "Mean Absolute Error Fold 1 k=20: 0.7017743156983663\n"
     ]
    },
    {
     "name": "stderr",
     "output_type": "stream",
     "text": [
      "100%|█████████████████████████████████████████████████████████████████████████████| 1682/1682 [00:05<00:00, 281.46it/s]\n"
     ]
    },
    {
     "name": "stdout",
     "output_type": "stream",
     "text": [
      "Coverage: 95.06 %\n",
      "Mean Absolute Error Fold 1 k=30: 0.6890911003576689\n"
     ]
    },
    {
     "name": "stderr",
     "output_type": "stream",
     "text": [
      "100%|█████████████████████████████████████████████████████████████████████████████| 1682/1682 [00:09<00:00, 178.38it/s]\n"
     ]
    },
    {
     "name": "stdout",
     "output_type": "stream",
     "text": [
      "Coverage: 96.585 %\n",
      "Mean Absolute Error Fold 1 k=40: 0.6872702800641921\n"
     ]
    },
    {
     "name": "stderr",
     "output_type": "stream",
     "text": [
      "100%|█████████████████████████████████████████████████████████████████████████████| 1682/1682 [00:12<00:00, 139.57it/s]"
     ]
    },
    {
     "name": "stdout",
     "output_type": "stream",
     "text": [
      "Coverage: 97.38 %\n",
      "Mean Absolute Error Fold 1 k=50: 0.686280550421031\n"
     ]
    },
    {
     "name": "stderr",
     "output_type": "stream",
     "text": [
      "\n"
     ]
    }
   ],
   "source": [
    "for k in [-11,-21,-31,-41,-51]:\n",
    "    total_predictions_1 = 0\n",
    "    total_absolute_error_1 = 0\n",
    "    for j in tqdm(range(1682)):\n",
    "        # calculating top k neighbours of item 'j'\n",
    "        # active user 'a'\n",
    "        # k = actual k + 1 since argpartition will return 'a' itself as well as cosine-sim(j,j) is 1\n",
    "        neighbours = np.argpartition(cosine_similarity_item[j], k)[k:]\n",
    "        for a in range(943):\n",
    "            if test_matrix_1[a][j]==0:\n",
    "                continue\n",
    "            summation=0\n",
    "            normalizing_factor=0\n",
    "            for i in neighbours:\n",
    "                if i==j:\n",
    "                    continue\n",
    "                if train_matrix_1[a][i]==0:\n",
    "                    continue\n",
    "                if(max(variance_rating_item_1[neighbours])==min(variance_rating_item_1[neighbours])):\n",
    "                    variance_weight = variance_rating_item_1[j]-min(variance_rating_item_1[neighbours])\n",
    "                else:\n",
    "                    variance_weight = (variance_rating_item_1[j]-min(variance_rating_item_1[neighbours]))/(max(variance_rating_item_1[neighbours])-min(variance_rating_item_1[neighbours]))\n",
    "                summation += cosine_similarity_item[j][i]*variance_weight*(train_matrix_1[a][i]-mean_rating_item_1[i])\n",
    "                normalizing_factor += abs(cosine_similarity_item[j][i]*variance_weight)\n",
    "            if normalizing_factor==0:\n",
    "                continue\n",
    "            predicted_rating_a_j_1 = round(mean_rating_item_1[j] + (summation/normalizing_factor))\n",
    "            total_absolute_error_1 += abs(predicted_rating_a_j_1 - test_matrix_1[a][j])\n",
    "            total_predictions_1 += 1\n",
    "    coverage_1 = (total_predictions_1/20000)*100\n",
    "    mean_absolute_error_1 = total_absolute_error_1/total_predictions_1\n",
    "    print('Coverage: {} {}'.format(coverage_1, '%'))\n",
    "    print('Mean Absolute Error Fold 1 k={}: {}'.format(-1*k-1,mean_absolute_error_1))"
   ]
  }
 ],
 "metadata": {
  "kernelspec": {
   "display_name": "Python 3 (ipykernel)",
   "language": "python",
   "name": "python3"
  },
  "language_info": {
   "codemirror_mode": {
    "name": "ipython",
    "version": 3
   },
   "file_extension": ".py",
   "mimetype": "text/x-python",
   "name": "python",
   "nbconvert_exporter": "python",
   "pygments_lexer": "ipython3",
   "version": "3.7.4"
  }
 },
 "nbformat": 4,
 "nbformat_minor": 5
}
