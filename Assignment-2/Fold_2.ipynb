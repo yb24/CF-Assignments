{
 "cells": [
  {
   "cell_type": "markdown",
   "id": "75bc89f1",
   "metadata": {},
   "source": [
    "# Import Statements"
   ]
  },
  {
   "cell_type": "code",
   "execution_count": 1,
   "id": "49823d78",
   "metadata": {},
   "outputs": [],
   "source": [
    "import pandas as pd\n",
    "import numpy as np\n",
    "from tqdm import tqdm\n",
    "import matplotlib.pyplot as plt\n",
    "from scipy.sparse import csr_matrix\n",
    "from sklearn.preprocessing import KBinsDiscretizer\n",
    "from sklearn.preprocessing import OneHotEncoder\n",
    "from sklearn.cluster import KMeans\n",
    "from skfuzzy.cluster import cmeans\n",
    "from skfuzzy.cluster import cmeans_predict\n",
    "from sklearn.metrics.pairwise import cosine_similarity"
   ]
  },
  {
   "cell_type": "markdown",
   "id": "9f9f5790",
   "metadata": {},
   "source": [
    "# Read Files"
   ]
  },
  {
   "cell_type": "code",
   "execution_count": 2,
   "id": "e96bfd41",
   "metadata": {},
   "outputs": [],
   "source": [
    "base_path = 'Dataset/ml-100k/'"
   ]
  },
  {
   "cell_type": "code",
   "execution_count": 3,
   "id": "8b76f78d",
   "metadata": {},
   "outputs": [],
   "source": [
    "user_data_cols = ['user_id', 'age', 'gender', 'occupation', 'zip_code']\n",
    "user_data = pd.read_csv(base_path+'u.user', sep='|', names=user_data_cols, encoding='latin-1')"
   ]
  },
  {
   "cell_type": "code",
   "execution_count": 4,
   "id": "47f63972",
   "metadata": {},
   "outputs": [],
   "source": [
    "user_data = user_data.drop(['user_id', 'zip_code'], axis=1)"
   ]
  },
  {
   "cell_type": "code",
   "execution_count": 5,
   "id": "41682701",
   "metadata": {
    "scrolled": true
   },
   "outputs": [
    {
     "data": {
      "text/html": [
       "<div>\n",
       "<style scoped>\n",
       "    .dataframe tbody tr th:only-of-type {\n",
       "        vertical-align: middle;\n",
       "    }\n",
       "\n",
       "    .dataframe tbody tr th {\n",
       "        vertical-align: top;\n",
       "    }\n",
       "\n",
       "    .dataframe thead th {\n",
       "        text-align: right;\n",
       "    }\n",
       "</style>\n",
       "<table border=\"1\" class=\"dataframe\">\n",
       "  <thead>\n",
       "    <tr style=\"text-align: right;\">\n",
       "      <th></th>\n",
       "      <th>age</th>\n",
       "      <th>gender</th>\n",
       "      <th>occupation</th>\n",
       "    </tr>\n",
       "  </thead>\n",
       "  <tbody>\n",
       "    <tr>\n",
       "      <th>0</th>\n",
       "      <td>24</td>\n",
       "      <td>M</td>\n",
       "      <td>technician</td>\n",
       "    </tr>\n",
       "    <tr>\n",
       "      <th>1</th>\n",
       "      <td>53</td>\n",
       "      <td>F</td>\n",
       "      <td>other</td>\n",
       "    </tr>\n",
       "    <tr>\n",
       "      <th>2</th>\n",
       "      <td>23</td>\n",
       "      <td>M</td>\n",
       "      <td>writer</td>\n",
       "    </tr>\n",
       "    <tr>\n",
       "      <th>3</th>\n",
       "      <td>24</td>\n",
       "      <td>M</td>\n",
       "      <td>technician</td>\n",
       "    </tr>\n",
       "    <tr>\n",
       "      <th>4</th>\n",
       "      <td>33</td>\n",
       "      <td>F</td>\n",
       "      <td>other</td>\n",
       "    </tr>\n",
       "    <tr>\n",
       "      <th>...</th>\n",
       "      <td>...</td>\n",
       "      <td>...</td>\n",
       "      <td>...</td>\n",
       "    </tr>\n",
       "    <tr>\n",
       "      <th>938</th>\n",
       "      <td>26</td>\n",
       "      <td>F</td>\n",
       "      <td>student</td>\n",
       "    </tr>\n",
       "    <tr>\n",
       "      <th>939</th>\n",
       "      <td>32</td>\n",
       "      <td>M</td>\n",
       "      <td>administrator</td>\n",
       "    </tr>\n",
       "    <tr>\n",
       "      <th>940</th>\n",
       "      <td>20</td>\n",
       "      <td>M</td>\n",
       "      <td>student</td>\n",
       "    </tr>\n",
       "    <tr>\n",
       "      <th>941</th>\n",
       "      <td>48</td>\n",
       "      <td>F</td>\n",
       "      <td>librarian</td>\n",
       "    </tr>\n",
       "    <tr>\n",
       "      <th>942</th>\n",
       "      <td>22</td>\n",
       "      <td>M</td>\n",
       "      <td>student</td>\n",
       "    </tr>\n",
       "  </tbody>\n",
       "</table>\n",
       "<p>943 rows × 3 columns</p>\n",
       "</div>"
      ],
      "text/plain": [
       "     age gender     occupation\n",
       "0     24      M     technician\n",
       "1     53      F          other\n",
       "2     23      M         writer\n",
       "3     24      M     technician\n",
       "4     33      F          other\n",
       "..   ...    ...            ...\n",
       "938   26      F        student\n",
       "939   32      M  administrator\n",
       "940   20      M        student\n",
       "941   48      F      librarian\n",
       "942   22      M        student\n",
       "\n",
       "[943 rows x 3 columns]"
      ]
     },
     "execution_count": 5,
     "metadata": {},
     "output_type": "execute_result"
    }
   ],
   "source": [
    "user_data"
   ]
  },
  {
   "cell_type": "code",
   "execution_count": 6,
   "id": "32dd5ce4",
   "metadata": {},
   "outputs": [
    {
     "data": {
      "text/html": [
       "<div>\n",
       "<style scoped>\n",
       "    .dataframe tbody tr th:only-of-type {\n",
       "        vertical-align: middle;\n",
       "    }\n",
       "\n",
       "    .dataframe tbody tr th {\n",
       "        vertical-align: top;\n",
       "    }\n",
       "\n",
       "    .dataframe thead th {\n",
       "        text-align: right;\n",
       "    }\n",
       "</style>\n",
       "<table border=\"1\" class=\"dataframe\">\n",
       "  <thead>\n",
       "    <tr style=\"text-align: right;\">\n",
       "      <th></th>\n",
       "      <th>age</th>\n",
       "    </tr>\n",
       "  </thead>\n",
       "  <tbody>\n",
       "    <tr>\n",
       "      <th>count</th>\n",
       "      <td>943.000000</td>\n",
       "    </tr>\n",
       "    <tr>\n",
       "      <th>mean</th>\n",
       "      <td>34.051962</td>\n",
       "    </tr>\n",
       "    <tr>\n",
       "      <th>std</th>\n",
       "      <td>12.192740</td>\n",
       "    </tr>\n",
       "    <tr>\n",
       "      <th>min</th>\n",
       "      <td>7.000000</td>\n",
       "    </tr>\n",
       "    <tr>\n",
       "      <th>25%</th>\n",
       "      <td>25.000000</td>\n",
       "    </tr>\n",
       "    <tr>\n",
       "      <th>50%</th>\n",
       "      <td>31.000000</td>\n",
       "    </tr>\n",
       "    <tr>\n",
       "      <th>75%</th>\n",
       "      <td>43.000000</td>\n",
       "    </tr>\n",
       "    <tr>\n",
       "      <th>max</th>\n",
       "      <td>73.000000</td>\n",
       "    </tr>\n",
       "  </tbody>\n",
       "</table>\n",
       "</div>"
      ],
      "text/plain": [
       "              age\n",
       "count  943.000000\n",
       "mean    34.051962\n",
       "std     12.192740\n",
       "min      7.000000\n",
       "25%     25.000000\n",
       "50%     31.000000\n",
       "75%     43.000000\n",
       "max     73.000000"
      ]
     },
     "execution_count": 6,
     "metadata": {},
     "output_type": "execute_result"
    }
   ],
   "source": [
    "user_data.describe()"
   ]
  },
  {
   "cell_type": "code",
   "execution_count": 7,
   "id": "84a9549c",
   "metadata": {},
   "outputs": [
    {
     "name": "stdout",
     "output_type": "stream",
     "text": [
      "<class 'pandas.core.frame.DataFrame'>\n",
      "RangeIndex: 943 entries, 0 to 942\n",
      "Data columns (total 3 columns):\n",
      " #   Column      Non-Null Count  Dtype \n",
      "---  ------      --------------  ----- \n",
      " 0   age         943 non-null    int64 \n",
      " 1   gender      943 non-null    object\n",
      " 2   occupation  943 non-null    object\n",
      "dtypes: int64(1), object(2)\n",
      "memory usage: 22.2+ KB\n"
     ]
    }
   ],
   "source": [
    "user_data.info()"
   ]
  },
  {
   "cell_type": "code",
   "execution_count": 8,
   "id": "665e8552",
   "metadata": {},
   "outputs": [],
   "source": [
    "ratings_cols = ['user_id', 'movie_id', 'rating', 'unix_timestamp']\n",
    "ratings_data = pd.read_csv(base_path+'u.data', sep='\\t', names=ratings_cols, encoding='latin-1')"
   ]
  },
  {
   "cell_type": "code",
   "execution_count": 9,
   "id": "1d94e02b",
   "metadata": {},
   "outputs": [
    {
     "data": {
      "text/html": [
       "<div>\n",
       "<style scoped>\n",
       "    .dataframe tbody tr th:only-of-type {\n",
       "        vertical-align: middle;\n",
       "    }\n",
       "\n",
       "    .dataframe tbody tr th {\n",
       "        vertical-align: top;\n",
       "    }\n",
       "\n",
       "    .dataframe thead th {\n",
       "        text-align: right;\n",
       "    }\n",
       "</style>\n",
       "<table border=\"1\" class=\"dataframe\">\n",
       "  <thead>\n",
       "    <tr style=\"text-align: right;\">\n",
       "      <th></th>\n",
       "      <th>user_id</th>\n",
       "      <th>movie_id</th>\n",
       "      <th>rating</th>\n",
       "      <th>unix_timestamp</th>\n",
       "    </tr>\n",
       "  </thead>\n",
       "  <tbody>\n",
       "    <tr>\n",
       "      <th>0</th>\n",
       "      <td>196</td>\n",
       "      <td>242</td>\n",
       "      <td>3</td>\n",
       "      <td>881250949</td>\n",
       "    </tr>\n",
       "    <tr>\n",
       "      <th>1</th>\n",
       "      <td>186</td>\n",
       "      <td>302</td>\n",
       "      <td>3</td>\n",
       "      <td>891717742</td>\n",
       "    </tr>\n",
       "    <tr>\n",
       "      <th>2</th>\n",
       "      <td>22</td>\n",
       "      <td>377</td>\n",
       "      <td>1</td>\n",
       "      <td>878887116</td>\n",
       "    </tr>\n",
       "    <tr>\n",
       "      <th>3</th>\n",
       "      <td>244</td>\n",
       "      <td>51</td>\n",
       "      <td>2</td>\n",
       "      <td>880606923</td>\n",
       "    </tr>\n",
       "    <tr>\n",
       "      <th>4</th>\n",
       "      <td>166</td>\n",
       "      <td>346</td>\n",
       "      <td>1</td>\n",
       "      <td>886397596</td>\n",
       "    </tr>\n",
       "    <tr>\n",
       "      <th>...</th>\n",
       "      <td>...</td>\n",
       "      <td>...</td>\n",
       "      <td>...</td>\n",
       "      <td>...</td>\n",
       "    </tr>\n",
       "    <tr>\n",
       "      <th>99995</th>\n",
       "      <td>880</td>\n",
       "      <td>476</td>\n",
       "      <td>3</td>\n",
       "      <td>880175444</td>\n",
       "    </tr>\n",
       "    <tr>\n",
       "      <th>99996</th>\n",
       "      <td>716</td>\n",
       "      <td>204</td>\n",
       "      <td>5</td>\n",
       "      <td>879795543</td>\n",
       "    </tr>\n",
       "    <tr>\n",
       "      <th>99997</th>\n",
       "      <td>276</td>\n",
       "      <td>1090</td>\n",
       "      <td>1</td>\n",
       "      <td>874795795</td>\n",
       "    </tr>\n",
       "    <tr>\n",
       "      <th>99998</th>\n",
       "      <td>13</td>\n",
       "      <td>225</td>\n",
       "      <td>2</td>\n",
       "      <td>882399156</td>\n",
       "    </tr>\n",
       "    <tr>\n",
       "      <th>99999</th>\n",
       "      <td>12</td>\n",
       "      <td>203</td>\n",
       "      <td>3</td>\n",
       "      <td>879959583</td>\n",
       "    </tr>\n",
       "  </tbody>\n",
       "</table>\n",
       "<p>100000 rows × 4 columns</p>\n",
       "</div>"
      ],
      "text/plain": [
       "       user_id  movie_id  rating  unix_timestamp\n",
       "0          196       242       3       881250949\n",
       "1          186       302       3       891717742\n",
       "2           22       377       1       878887116\n",
       "3          244        51       2       880606923\n",
       "4          166       346       1       886397596\n",
       "...        ...       ...     ...             ...\n",
       "99995      880       476       3       880175444\n",
       "99996      716       204       5       879795543\n",
       "99997      276      1090       1       874795795\n",
       "99998       13       225       2       882399156\n",
       "99999       12       203       3       879959583\n",
       "\n",
       "[100000 rows x 4 columns]"
      ]
     },
     "execution_count": 9,
     "metadata": {},
     "output_type": "execute_result"
    }
   ],
   "source": [
    "ratings_data"
   ]
  },
  {
   "cell_type": "code",
   "execution_count": 10,
   "id": "d617c8fd",
   "metadata": {},
   "outputs": [],
   "source": [
    "ratings_matrix = np.zeros((943,1682))"
   ]
  },
  {
   "cell_type": "code",
   "execution_count": 11,
   "id": "ec7507b3",
   "metadata": {},
   "outputs": [],
   "source": [
    "for i in range(100000):\n",
    "    ratings_matrix[ratings_data.iloc[i,0]-1][ratings_data.iloc[i,1]-1] = ratings_data.iloc[i,2]"
   ]
  },
  {
   "cell_type": "code",
   "execution_count": 12,
   "id": "49bf7cdd",
   "metadata": {},
   "outputs": [
    {
     "data": {
      "text/plain": [
       "array([[5., 3., 4., ..., 0., 0., 0.],\n",
       "       [4., 0., 0., ..., 0., 0., 0.],\n",
       "       [0., 0., 0., ..., 0., 0., 0.],\n",
       "       ...,\n",
       "       [5., 0., 0., ..., 0., 0., 0.],\n",
       "       [0., 0., 0., ..., 0., 0., 0.],\n",
       "       [0., 5., 0., ..., 0., 0., 0.]])"
      ]
     },
     "execution_count": 12,
     "metadata": {},
     "output_type": "execute_result"
    }
   ],
   "source": [
    "ratings_matrix"
   ]
  },
  {
   "cell_type": "markdown",
   "id": "9230f940",
   "metadata": {},
   "source": [
    "# Meta-data train-test split"
   ]
  },
  {
   "cell_type": "code",
   "execution_count": 13,
   "id": "bccb7359",
   "metadata": {},
   "outputs": [],
   "source": [
    "user_data_fold_1 = user_data.iloc[0:188,:]\n",
    "user_data_fold_2 = user_data.iloc[188:376,:]\n",
    "user_data_fold_3 = user_data.iloc[376:564,:]\n",
    "user_data_fold_4 = user_data.iloc[564:752,:]\n",
    "user_data_fold_5 = user_data.iloc[752:943,:]"
   ]
  },
  {
   "cell_type": "code",
   "execution_count": 14,
   "id": "8c74f1b0",
   "metadata": {},
   "outputs": [],
   "source": [
    "test_user_data = user_data_fold_2\n",
    "train_user_data = pd.concat([user_data_fold_1,user_data_fold_3,user_data_fold_4,user_data_fold_5])"
   ]
  },
  {
   "cell_type": "code",
   "execution_count": 15,
   "id": "a7d15adc",
   "metadata": {},
   "outputs": [
    {
     "data": {
      "text/html": [
       "<div>\n",
       "<style scoped>\n",
       "    .dataframe tbody tr th:only-of-type {\n",
       "        vertical-align: middle;\n",
       "    }\n",
       "\n",
       "    .dataframe tbody tr th {\n",
       "        vertical-align: top;\n",
       "    }\n",
       "\n",
       "    .dataframe thead th {\n",
       "        text-align: right;\n",
       "    }\n",
       "</style>\n",
       "<table border=\"1\" class=\"dataframe\">\n",
       "  <thead>\n",
       "    <tr style=\"text-align: right;\">\n",
       "      <th></th>\n",
       "      <th>age</th>\n",
       "      <th>gender</th>\n",
       "      <th>occupation</th>\n",
       "    </tr>\n",
       "  </thead>\n",
       "  <tbody>\n",
       "    <tr>\n",
       "      <th>0</th>\n",
       "      <td>24</td>\n",
       "      <td>M</td>\n",
       "      <td>technician</td>\n",
       "    </tr>\n",
       "    <tr>\n",
       "      <th>1</th>\n",
       "      <td>53</td>\n",
       "      <td>F</td>\n",
       "      <td>other</td>\n",
       "    </tr>\n",
       "    <tr>\n",
       "      <th>2</th>\n",
       "      <td>23</td>\n",
       "      <td>M</td>\n",
       "      <td>writer</td>\n",
       "    </tr>\n",
       "    <tr>\n",
       "      <th>3</th>\n",
       "      <td>24</td>\n",
       "      <td>M</td>\n",
       "      <td>technician</td>\n",
       "    </tr>\n",
       "    <tr>\n",
       "      <th>4</th>\n",
       "      <td>33</td>\n",
       "      <td>F</td>\n",
       "      <td>other</td>\n",
       "    </tr>\n",
       "    <tr>\n",
       "      <th>...</th>\n",
       "      <td>...</td>\n",
       "      <td>...</td>\n",
       "      <td>...</td>\n",
       "    </tr>\n",
       "    <tr>\n",
       "      <th>938</th>\n",
       "      <td>26</td>\n",
       "      <td>F</td>\n",
       "      <td>student</td>\n",
       "    </tr>\n",
       "    <tr>\n",
       "      <th>939</th>\n",
       "      <td>32</td>\n",
       "      <td>M</td>\n",
       "      <td>administrator</td>\n",
       "    </tr>\n",
       "    <tr>\n",
       "      <th>940</th>\n",
       "      <td>20</td>\n",
       "      <td>M</td>\n",
       "      <td>student</td>\n",
       "    </tr>\n",
       "    <tr>\n",
       "      <th>941</th>\n",
       "      <td>48</td>\n",
       "      <td>F</td>\n",
       "      <td>librarian</td>\n",
       "    </tr>\n",
       "    <tr>\n",
       "      <th>942</th>\n",
       "      <td>22</td>\n",
       "      <td>M</td>\n",
       "      <td>student</td>\n",
       "    </tr>\n",
       "  </tbody>\n",
       "</table>\n",
       "<p>755 rows × 3 columns</p>\n",
       "</div>"
      ],
      "text/plain": [
       "     age gender     occupation\n",
       "0     24      M     technician\n",
       "1     53      F          other\n",
       "2     23      M         writer\n",
       "3     24      M     technician\n",
       "4     33      F          other\n",
       "..   ...    ...            ...\n",
       "938   26      F        student\n",
       "939   32      M  administrator\n",
       "940   20      M        student\n",
       "941   48      F      librarian\n",
       "942   22      M        student\n",
       "\n",
       "[755 rows x 3 columns]"
      ]
     },
     "execution_count": 15,
     "metadata": {},
     "output_type": "execute_result"
    }
   ],
   "source": [
    "train_user_data"
   ]
  },
  {
   "cell_type": "code",
   "execution_count": 16,
   "id": "4dfd1ed9",
   "metadata": {},
   "outputs": [
    {
     "data": {
      "text/html": [
       "<div>\n",
       "<style scoped>\n",
       "    .dataframe tbody tr th:only-of-type {\n",
       "        vertical-align: middle;\n",
       "    }\n",
       "\n",
       "    .dataframe tbody tr th {\n",
       "        vertical-align: top;\n",
       "    }\n",
       "\n",
       "    .dataframe thead th {\n",
       "        text-align: right;\n",
       "    }\n",
       "</style>\n",
       "<table border=\"1\" class=\"dataframe\">\n",
       "  <thead>\n",
       "    <tr style=\"text-align: right;\">\n",
       "      <th></th>\n",
       "      <th>age</th>\n",
       "      <th>gender</th>\n",
       "      <th>occupation</th>\n",
       "    </tr>\n",
       "  </thead>\n",
       "  <tbody>\n",
       "    <tr>\n",
       "      <th>188</th>\n",
       "      <td>32</td>\n",
       "      <td>M</td>\n",
       "      <td>artist</td>\n",
       "    </tr>\n",
       "    <tr>\n",
       "      <th>189</th>\n",
       "      <td>30</td>\n",
       "      <td>M</td>\n",
       "      <td>administrator</td>\n",
       "    </tr>\n",
       "    <tr>\n",
       "      <th>190</th>\n",
       "      <td>33</td>\n",
       "      <td>M</td>\n",
       "      <td>administrator</td>\n",
       "    </tr>\n",
       "    <tr>\n",
       "      <th>191</th>\n",
       "      <td>42</td>\n",
       "      <td>M</td>\n",
       "      <td>educator</td>\n",
       "    </tr>\n",
       "    <tr>\n",
       "      <th>192</th>\n",
       "      <td>29</td>\n",
       "      <td>M</td>\n",
       "      <td>student</td>\n",
       "    </tr>\n",
       "    <tr>\n",
       "      <th>...</th>\n",
       "      <td>...</td>\n",
       "      <td>...</td>\n",
       "      <td>...</td>\n",
       "    </tr>\n",
       "    <tr>\n",
       "      <th>371</th>\n",
       "      <td>25</td>\n",
       "      <td>F</td>\n",
       "      <td>student</td>\n",
       "    </tr>\n",
       "    <tr>\n",
       "      <th>372</th>\n",
       "      <td>24</td>\n",
       "      <td>F</td>\n",
       "      <td>other</td>\n",
       "    </tr>\n",
       "    <tr>\n",
       "      <th>373</th>\n",
       "      <td>36</td>\n",
       "      <td>M</td>\n",
       "      <td>executive</td>\n",
       "    </tr>\n",
       "    <tr>\n",
       "      <th>374</th>\n",
       "      <td>17</td>\n",
       "      <td>M</td>\n",
       "      <td>entertainment</td>\n",
       "    </tr>\n",
       "    <tr>\n",
       "      <th>375</th>\n",
       "      <td>28</td>\n",
       "      <td>F</td>\n",
       "      <td>other</td>\n",
       "    </tr>\n",
       "  </tbody>\n",
       "</table>\n",
       "<p>188 rows × 3 columns</p>\n",
       "</div>"
      ],
      "text/plain": [
       "     age gender     occupation\n",
       "188   32      M         artist\n",
       "189   30      M  administrator\n",
       "190   33      M  administrator\n",
       "191   42      M       educator\n",
       "192   29      M        student\n",
       "..   ...    ...            ...\n",
       "371   25      F        student\n",
       "372   24      F          other\n",
       "373   36      M      executive\n",
       "374   17      M  entertainment\n",
       "375   28      F          other\n",
       "\n",
       "[188 rows x 3 columns]"
      ]
     },
     "execution_count": 16,
     "metadata": {},
     "output_type": "execute_result"
    }
   ],
   "source": [
    "test_user_data"
   ]
  },
  {
   "cell_type": "code",
   "execution_count": 17,
   "id": "45bd17fc",
   "metadata": {},
   "outputs": [],
   "source": [
    "ratings_matrix_fold_1 = ratings_matrix[0:188,:]\n",
    "ratings_matrix_fold_2 = ratings_matrix[188:376,:]\n",
    "ratings_matrix_fold_3 = ratings_matrix[376:564,:]\n",
    "ratings_matrix_fold_4 = ratings_matrix[564:752,:]\n",
    "ratings_matrix_fold_5 = ratings_matrix[752:943,:]"
   ]
  },
  {
   "cell_type": "code",
   "execution_count": 18,
   "id": "9646d94e",
   "metadata": {},
   "outputs": [],
   "source": [
    "test_ratings_matrix = ratings_matrix_fold_2\n",
    "train_ratings_matrix = np.vstack((ratings_matrix_fold_1,ratings_matrix_fold_3,ratings_matrix_fold_4,ratings_matrix_fold_5))"
   ]
  },
  {
   "cell_type": "code",
   "execution_count": 19,
   "id": "d9b5cf92",
   "metadata": {},
   "outputs": [
    {
     "name": "stdout",
     "output_type": "stream",
     "text": [
      "(755, 1682)\n",
      "[5. 3. 4. ... 0. 0. 0.]\n"
     ]
    }
   ],
   "source": [
    "print(train_ratings_matrix.shape)\n",
    "print(train_ratings_matrix[0])"
   ]
  },
  {
   "cell_type": "code",
   "execution_count": 20,
   "id": "1f367fd1",
   "metadata": {},
   "outputs": [
    {
     "name": "stdout",
     "output_type": "stream",
     "text": [
      "(188, 1682)\n",
      "[5. 0. 0. ... 0. 0. 0.]\n"
     ]
    }
   ],
   "source": [
    "print(test_ratings_matrix.shape)\n",
    "print(test_ratings_matrix[0])"
   ]
  },
  {
   "cell_type": "markdown",
   "id": "44fd47d9",
   "metadata": {},
   "source": [
    "# Categorical to Numeric"
   ]
  },
  {
   "cell_type": "code",
   "execution_count": 21,
   "id": "8bfc5eac",
   "metadata": {},
   "outputs": [
    {
     "name": "stdout",
     "output_type": "stream",
     "text": [
      "[array([ 7. , 23. , 29. , 35.4, 47. , 73. ])]\n"
     ]
    }
   ],
   "source": [
    "kbins = KBinsDiscretizer(n_bins=5, encode='onehot', strategy='quantile')\n",
    "train_user_data_age = kbins.fit_transform(train_user_data[['age']])\n",
    "test_user_data_age = kbins.transform(test_user_data[['age']])\n",
    "print(kbins.bin_edges_)"
   ]
  },
  {
   "cell_type": "code",
   "execution_count": 22,
   "id": "4c991ee5",
   "metadata": {},
   "outputs": [],
   "source": [
    "train_user_data_age = csr_matrix(train_user_data_age, dtype=np.int64).toarray()\n",
    "test_user_data_age = csr_matrix(test_user_data_age, dtype=np.int64).toarray()"
   ]
  },
  {
   "cell_type": "code",
   "execution_count": 23,
   "id": "5b128e02",
   "metadata": {},
   "outputs": [],
   "source": [
    "# print(type(train_user_data_age))\n",
    "# print(train_user_data_age.dtype)\n",
    "# print(train_user_data_age.shape)\n",
    "# print(train_user_data_age[0])"
   ]
  },
  {
   "cell_type": "code",
   "execution_count": 24,
   "id": "5e7bf3fa",
   "metadata": {},
   "outputs": [
    {
     "name": "stdout",
     "output_type": "stream",
     "text": [
      "[array(['F', 'M'], dtype=object), array(['administrator', 'artist', 'doctor', 'educator', 'engineer',\n",
      "       'entertainment', 'executive', 'healthcare', 'homemaker', 'lawyer',\n",
      "       'librarian', 'marketing', 'none', 'other', 'programmer', 'retired',\n",
      "       'salesman', 'scientist', 'student', 'technician', 'writer'],\n",
      "      dtype=object)]\n"
     ]
    }
   ],
   "source": [
    "ohe = OneHotEncoder(categories='auto', drop=None, sparse=True, dtype=np.int64, handle_unknown='ignore')\n",
    "train_user_data_gender_occupation = ohe.fit_transform(train_user_data[['gender','occupation']])\n",
    "test_user_data_gender_occupation = ohe.transform(test_user_data[['gender','occupation']])\n",
    "print(ohe.categories_)"
   ]
  },
  {
   "cell_type": "code",
   "execution_count": 25,
   "id": "541bb65e",
   "metadata": {},
   "outputs": [],
   "source": [
    "train_user_data_gender_occupation = csr_matrix(train_user_data_gender_occupation, dtype=np.int64).toarray()\n",
    "test_user_data_gender_occupation = csr_matrix(test_user_data_gender_occupation, dtype=np.int64).toarray()"
   ]
  },
  {
   "cell_type": "code",
   "execution_count": 26,
   "id": "02c36c23",
   "metadata": {},
   "outputs": [],
   "source": [
    "# print(type(train_user_data_gender_occupation))\n",
    "# print(train_user_data_gender_occupation.dtype)\n",
    "# print(train_user_data_gender_occupation.shape)\n",
    "# print(train_user_data_gender_occupation)"
   ]
  },
  {
   "cell_type": "code",
   "execution_count": 27,
   "id": "143c0f4d",
   "metadata": {},
   "outputs": [],
   "source": [
    "train_user_data_numerical = np.hstack((train_user_data_age, train_user_data_gender_occupation))\n",
    "test_user_data_numerical = np.hstack((test_user_data_age, test_user_data_gender_occupation))"
   ]
  },
  {
   "cell_type": "code",
   "execution_count": 28,
   "id": "8d02cb70",
   "metadata": {},
   "outputs": [
    {
     "name": "stdout",
     "output_type": "stream",
     "text": [
      "<class 'numpy.ndarray'>\n",
      "int64\n",
      "(755, 28)\n",
      "[0 1 0 0 0 0 1 0 0 0 0 0 0 0 0 0 0 0 0 0 0 0 0 0 0 0 1 0]\n"
     ]
    }
   ],
   "source": [
    "print(type(train_user_data_numerical))\n",
    "print(train_user_data_numerical.dtype)\n",
    "print(train_user_data_numerical.shape)\n",
    "print(train_user_data_numerical[0])"
   ]
  },
  {
   "cell_type": "code",
   "execution_count": 29,
   "id": "6946138e",
   "metadata": {},
   "outputs": [
    {
     "name": "stdout",
     "output_type": "stream",
     "text": [
      "<class 'numpy.ndarray'>\n",
      "int64\n",
      "(188, 28)\n",
      "[0 0 1 0 0 0 1 0 1 0 0 0 0 0 0 0 0 0 0 0 0 0 0 0 0 0 0 0]\n"
     ]
    }
   ],
   "source": [
    "print(type(test_user_data_numerical))\n",
    "print(test_user_data_numerical.dtype)\n",
    "print(test_user_data_numerical.shape)\n",
    "print(test_user_data_numerical[0])"
   ]
  },
  {
   "cell_type": "code",
   "execution_count": 30,
   "id": "a7bcc907",
   "metadata": {},
   "outputs": [],
   "source": [
    "train = [[] for _ in range(train_user_data_numerical.shape[0])]\n",
    "for i in range(train_user_data_numerical.shape[0]):\n",
    "    train[i].append(train_user_data_numerical[i])\n",
    "    train[i].append(train_ratings_matrix[i])"
   ]
  },
  {
   "cell_type": "code",
   "execution_count": 31,
   "id": "c058366c",
   "metadata": {},
   "outputs": [
    {
     "name": "stdout",
     "output_type": "stream",
     "text": [
      "755\n",
      "2\n",
      "28\n",
      "1682\n",
      "[array([0, 1, 0, 0, 0, 0, 1, 0, 0, 0, 0, 0, 0, 0, 0, 0, 0, 0, 0, 0, 0, 0,\n",
      "       0, 0, 0, 0, 1, 0], dtype=int64), array([5., 3., 4., ..., 0., 0., 0.])]\n"
     ]
    }
   ],
   "source": [
    "print(len(train))\n",
    "print(len(train[0]))\n",
    "print(len(train[0][0]))\n",
    "print(len(train[0][1]))\n",
    "print(train[0])"
   ]
  },
  {
   "cell_type": "code",
   "execution_count": 32,
   "id": "0c50eae7",
   "metadata": {},
   "outputs": [],
   "source": [
    "test = [[] for _ in range(test_user_data_numerical.shape[0])]\n",
    "for i in range(test_user_data_numerical.shape[0]):\n",
    "    test[i].append(test_user_data_numerical[i])\n",
    "    test[i].append(test_ratings_matrix[i])"
   ]
  },
  {
   "cell_type": "code",
   "execution_count": 33,
   "id": "16807e0d",
   "metadata": {},
   "outputs": [
    {
     "name": "stdout",
     "output_type": "stream",
     "text": [
      "188\n",
      "2\n",
      "28\n",
      "1682\n",
      "[array([0, 0, 1, 0, 0, 0, 1, 0, 1, 0, 0, 0, 0, 0, 0, 0, 0, 0, 0, 0, 0, 0,\n",
      "       0, 0, 0, 0, 0, 0], dtype=int64), array([5., 0., 0., ..., 0., 0., 0.])]\n"
     ]
    }
   ],
   "source": [
    "print(len(test))\n",
    "print(len(test[0]))\n",
    "print(len(test[0][0]))\n",
    "print(len(test[0][1]))\n",
    "print(test[0])"
   ]
  },
  {
   "cell_type": "markdown",
   "id": "132a45f2",
   "metadata": {},
   "source": [
    "# Fold 2 k=5,10,20"
   ]
  },
  {
   "cell_type": "code",
   "execution_count": 34,
   "id": "bedaa6ac",
   "metadata": {},
   "outputs": [
    {
     "name": "stderr",
     "output_type": "stream",
     "text": [
      "100%|████████████████████████████████████████████████████████████████████████████████| 188/188 [00:07<00:00, 25.38it/s]\n"
     ]
    },
    {
     "name": "stdout",
     "output_type": "stream",
     "text": [
      "Coverage: 97.49977716374009 %\n",
      "Mean Absolute Error Fold 2 k=5: 0.798784111166979\n"
     ]
    },
    {
     "name": "stderr",
     "output_type": "stream",
     "text": [
      "100%|████████████████████████████████████████████████████████████████████████████████| 188/188 [00:04<00:00, 42.44it/s]\n"
     ]
    },
    {
     "name": "stdout",
     "output_type": "stream",
     "text": [
      "Coverage: 96.87137891077636 %\n",
      "Mean Absolute Error Fold 2 k=10: 0.805115936694884\n"
     ]
    },
    {
     "name": "stderr",
     "output_type": "stream",
     "text": [
      "100%|████████████████████████████████████████████████████████████████████████████████| 188/188 [00:02<00:00, 65.34it/s]"
     ]
    },
    {
     "name": "stdout",
     "output_type": "stream",
     "text": [
      "Coverage: 94.28202157054996 %\n",
      "Mean Absolute Error Fold 2 k=20: 0.8250531789175136\n"
     ]
    },
    {
     "name": "stderr",
     "output_type": "stream",
     "text": [
      "\n"
     ]
    }
   ],
   "source": [
    "for k in [5,10,20]:\n",
    "    # Cluster user data\n",
    "    crisp_kmeans_model = KMeans(n_clusters=k, init='k-means++', n_init=10, max_iter=300, random_state=0, algorithm='full')\n",
    "    train_user_data_cluster = crisp_kmeans_model.fit_transform(train_user_data_numerical)\n",
    "    test_user_data_cluster = crisp_kmeans_model.transform(test_user_data_numerical)\n",
    "    \n",
    "    train_user_cluster_numbers = crisp_kmeans_model.labels_\n",
    "    test_user_cluster_numbers = crisp_kmeans_model.predict(test_user_data_numerical)\n",
    "    \n",
    "    cluster_num_vs_train_users = [[] for _ in range(k)]\n",
    "    for i in range(len(train_user_cluster_numbers)):\n",
    "        cluster_num_vs_train_users[train_user_cluster_numbers[i]].append(i)\n",
    "    \n",
    "    # Predictions\n",
    "    total_possible_predictions = 0\n",
    "    total_actual_predictions = 0\n",
    "    total_absolute_error = 0\n",
    "    for a in tqdm(range(len(test))):\n",
    "        threshold = 0.5\n",
    "        cluster_number_of_a = test_user_cluster_numbers[a]\n",
    "        neighbours={}\n",
    "        for user_i in cluster_num_vs_train_users[cluster_number_of_a]:\n",
    "            cos_sim_a_user_i = cosine_similarity([test[a][0]], [train[user_i][0]])[0][0]\n",
    "            if(cos_sim_a_user_i>threshold):\n",
    "                neighbours[user_i] = cos_sim_a_user_i\n",
    "        for j in range(len(test[a][1])):\n",
    "            if(test[a][1][j]==0):\n",
    "                continue\n",
    "            total_possible_predictions+=1\n",
    "            summation = 0\n",
    "            normalizing_factor = 0\n",
    "            for i in neighbours.keys():\n",
    "                if(train[i][1][j]==0):\n",
    "                    continue\n",
    "                summation += neighbours[i]*train[i][1][j]\n",
    "                normalizing_factor += abs(neighbours[i])\n",
    "            if(normalizing_factor==0):\n",
    "                continue\n",
    "            predicted_rating_a_j = round(summation/normalizing_factor)\n",
    "            total_absolute_error += abs(predicted_rating_a_j - test[a][1][j])\n",
    "            total_actual_predictions+=1\n",
    "    coverage = (total_actual_predictions/total_possible_predictions)*100\n",
    "    mean_absolute_error = total_absolute_error/total_actual_predictions\n",
    "    print('Coverage: {} {}'.format(coverage, '%'))\n",
    "    print('Mean Absolute Error Fold 2 k={}: {}'.format(k,mean_absolute_error))"
   ]
  },
  {
   "cell_type": "markdown",
   "id": "fbc4f11a",
   "metadata": {},
   "source": [
    "# Fold 2 c=5,10,20"
   ]
  },
  {
   "cell_type": "code",
   "execution_count": 35,
   "id": "8fb4c478",
   "metadata": {},
   "outputs": [
    {
     "name": "stderr",
     "output_type": "stream",
     "text": [
      "100%|████████████████████████████████████████████████████████████████████████████████| 188/188 [00:39<00:00,  4.77it/s]\n"
     ]
    },
    {
     "name": "stdout",
     "output_type": "stream",
     "text": [
      "Coverage: 98.14154559229877 %\n",
      "Mean Absolute Error Fold 2 c=5: 0.7923345897098224\n"
     ]
    },
    {
     "name": "stderr",
     "output_type": "stream",
     "text": [
      "100%|████████████████████████████████████████████████████████████████████████████████| 188/188 [00:51<00:00,  3.66it/s]\n"
     ]
    },
    {
     "name": "stdout",
     "output_type": "stream",
     "text": [
      "Coverage: 98.14154559229877 %\n",
      "Mean Absolute Error Fold 2 c=10: 0.7927887016938377\n"
     ]
    },
    {
     "name": "stderr",
     "output_type": "stream",
     "text": [
      "100%|████████████████████████████████████████████████████████████████████████████████| 188/188 [01:15<00:00,  2.49it/s]"
     ]
    },
    {
     "name": "stdout",
     "output_type": "stream",
     "text": [
      "Coverage: 98.14154559229877 %\n",
      "Mean Absolute Error Fold 2 c=20: 0.7925162345034286\n"
     ]
    },
    {
     "name": "stderr",
     "output_type": "stream",
     "text": [
      "\n"
     ]
    }
   ],
   "source": [
    "for c in [5,10,20]:\n",
    "    # Cluster user data\n",
    "    train_cmeans_cluster_centers, train_final_fuzzy_cpartitioned_matrix, train_initial_guess_at_cpartitioned_matrix, train_final_euclidean_distance_matrix, train_objective_function_history, train_num_of_itrs_run, train_final_fuzzy_partition_coefficient = cmeans(data=train_user_data_numerical.T, c=c, m=2, error=0.0001, maxiter=1000, init=None, seed=0)\n",
    "    test_final_fuzzy_cpartitioned_matrix, test_initial_guess_at_cpartitioned_matrix, test_final_euclidean_distance_matrix, test_objective_function_history, test_num_of_itrs_run, test_final_fuzzy_partition_coefficient = cmeans_predict(test_data=test_user_data_numerical.T, cntr_trained=train_cmeans_cluster_centers, m=2, error=0.0001, maxiter=1000, init=None, seed=0)\n",
    "    \n",
    "    # Predictions\n",
    "    total_possible_predictions = 0\n",
    "    total_actual_predictions = 0\n",
    "    total_absolute_error = 0\n",
    "    for a in tqdm(range(len(test))):\n",
    "        threshold = 0.5\n",
    "        neighbours = {}\n",
    "        for user_i in range(len(train)):\n",
    "            cos_sim_a_user_i = cosine_similarity([test[a][0]], [train[user_i][0]])[0][0]\n",
    "            if(cos_sim_a_user_i>threshold):\n",
    "                neighbours[user_i] = cos_sim_a_user_i\n",
    "        for j in range(len(test[a][1])):\n",
    "            if(test[a][1][j]==0):\n",
    "                continue\n",
    "            total_possible_predictions+=1\n",
    "            cluster_rating = {}\n",
    "            for k in range(c):\n",
    "                first_summation=0\n",
    "                first_normalizing_factor=0\n",
    "                for i in neighbours.keys():\n",
    "                    if(train[i][1][j]==0):\n",
    "                        continue\n",
    "                    first_summation += train_final_fuzzy_cpartitioned_matrix[k][i]*neighbours[i]*train[i][1][j]\n",
    "                    first_normalizing_factor += abs(train_final_fuzzy_cpartitioned_matrix[k][i]*neighbours[i])\n",
    "                if(first_normalizing_factor==0):\n",
    "                    continue\n",
    "                cluster_rating[k] = first_summation/first_normalizing_factor\n",
    "            second_summation=0\n",
    "            second_normalizing_factor=0\n",
    "            for kk in cluster_rating.keys():\n",
    "                second_summation += test_final_fuzzy_cpartitioned_matrix[kk][a]*cluster_rating[kk]\n",
    "                second_normalizing_factor += abs(test_final_fuzzy_cpartitioned_matrix[kk][a])\n",
    "            if(second_normalizing_factor==0):\n",
    "                continue\n",
    "            predicted_rating_a_j = round(second_summation/second_normalizing_factor)\n",
    "            total_absolute_error += abs(predicted_rating_a_j - test[a][1][j])\n",
    "            total_actual_predictions+=1\n",
    "    coverage = (total_actual_predictions/total_possible_predictions)*100\n",
    "    mean_absolute_error = total_absolute_error/total_actual_predictions\n",
    "    print('Coverage: {} {}'.format(coverage, '%'))\n",
    "    print('Mean Absolute Error Fold 2 c={}: {}'.format(c,mean_absolute_error))"
   ]
  }
 ],
 "metadata": {
  "kernelspec": {
   "display_name": "Python 3 (ipykernel)",
   "language": "python",
   "name": "python3"
  },
  "language_info": {
   "codemirror_mode": {
    "name": "ipython",
    "version": 3
   },
   "file_extension": ".py",
   "mimetype": "text/x-python",
   "name": "python",
   "nbconvert_exporter": "python",
   "pygments_lexer": "ipython3",
   "version": "3.7.4"
  }
 },
 "nbformat": 4,
 "nbformat_minor": 5
}
